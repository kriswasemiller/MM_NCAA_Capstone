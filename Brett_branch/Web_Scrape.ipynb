{
 "cells": [
  {
   "cell_type": "markdown",
   "metadata": {},
   "source": [
    "# Imports"
   ]
  },
  {
   "cell_type": "code",
   "execution_count": 1,
   "metadata": {},
   "outputs": [],
   "source": [
    "from bs4 import BeautifulSoup as bs\n",
    "import requests\n",
    "import pandas as pd\n",
    "import json\n",
    "import time\n",
    "from webdriver_manager.chrome import ChromeDriverManager\n",
    "from splinter import Browser\n",
    "import numpy as np"
   ]
  },
  {
   "cell_type": "markdown",
   "metadata": {},
   "source": [
    "### Init Browser"
   ]
  },
  {
   "cell_type": "code",
   "execution_count": 2,
   "metadata": {},
   "outputs": [
    {
     "name": "stderr",
     "output_type": "stream",
     "text": [
      "[WDM] - Current google-chrome version is 89.0.4389\n",
      "[WDM] - Get LATEST driver version for 89.0.4389\n",
      "[WDM] - Driver [C:\\Users\\kheat\\.wdm\\drivers\\chromedriver\\win32\\89.0.4389.23\\chromedriver.exe] found in cache\n"
     ]
    },
    {
     "name": "stdout",
     "output_type": "stream",
     "text": [
      " \n"
     ]
    }
   ],
   "source": [
    "executable_path = {'executable_path': ChromeDriverManager().install()}\n",
    "browser = Browser('chrome', **executable_path, headless=False)"
   ]
  },
  {
   "cell_type": "markdown",
   "metadata": {},
   "source": [
    "# KenPom Loop"
   ]
  },
  {
   "cell_type": "code",
   "execution_count": 3,
   "metadata": {},
   "outputs": [],
   "source": [
    "years = list(np.arange(2016, 2022))\n",
    "\n",
    "\n",
    "for year in years:\n",
    "    clean_names = []\n",
    "    seeds = []\n",
    "    \n",
    "    df = pd.DataFrame()\n",
    "    \n",
    "    url = f'https://kenpom.com/index.php?y={year}'\n",
    "    browser.visit(url)\n",
    "    time.sleep(0.5)\n",
    "    \n",
    "    html=browser.html\n",
    "    soup = bs(html, 'lxml')\n",
    "    \n",
    "    dfs = pd.read_html(browser.html)\n",
    "    df = dfs[0]\n",
    "    df.columns = [x[1] for x in df.columns]\n",
    "    df.Team[0][-2:]\n",
    "    str.isnumeric(df.Team[0][-2:].strip())\n",
    "    \n",
    "    for _, row in df.iterrows():\n",
    "        seed = row.Team[-2:].strip()\n",
    "\n",
    "        if str.isnumeric(seed):\n",
    "            clean_name = row.Team[:-2]\n",
    "\n",
    "        else:\n",
    "            clean_name = row.Team\n",
    "            seed = ''\n",
    "\n",
    "        clean_names.append(clean_name)\n",
    "        seeds.append(seed)\n",
    "  \n",
    "    df[\"TeamName_Clean\"] = clean_names\n",
    "    df[\"Seed\"] = seeds\n",
    "    \n",
    "    df.columns = ['Rk', 'Team', 'Conf', 'W-L', 'AdjEM', 'AdjO', 'AdjO_Rank', 'AdjD', 'AdjD_Rank',\n",
    "       'AdjT', 'AdjT_Rank', 'Luck', 'Luck_Rank', 'SOS_AdjEM', 'AdjEM_Rank', 'SOS_OppO', 'OppO_Rank',\n",
    "       'SOS_OppD', 'OppD_Rank', 'NCSOS_AdjEM', 'AdjEM_Rank', 'TeamName_Clean', 'Seed']\n",
    "\n",
    "    df_kenPom = df.drop(['Team','W-L','AdjO_Rank', 'AdjD_Rank', 'AdjT_Rank','Luck_Rank','AdjEM_Rank', \n",
    "                         'OppO_Rank', 'OppD_Rank','AdjEM_Rank', 'Seed'], axis=1)\n",
    "\n",
    "    df_kenPom = df_kenPom[['Rk', 'TeamName_Clean', 'AdjEM', 'AdjO', 'AdjD', 'AdjT', 'Luck', 'SOS_AdjEM', \n",
    "                           'SOS_OppO', 'SOS_OppD', 'NCSOS_AdjEM']]\n",
    "    \n",
    "    df_kenPom['Year'] = int(year)\n",
    "\n",
    "    # Write each df to CSV\n",
    "    df_kenPom.to_csv(f'Data/2021/kenPom_{year}.csv', index=False)\n"
   ]
  },
  {
   "cell_type": "code",
   "execution_count": 4,
   "metadata": {},
   "outputs": [
    {
     "data": {
      "text/html": [
       "<div>\n",
       "<style scoped>\n",
       "    .dataframe tbody tr th:only-of-type {\n",
       "        vertical-align: middle;\n",
       "    }\n",
       "\n",
       "    .dataframe tbody tr th {\n",
       "        vertical-align: top;\n",
       "    }\n",
       "\n",
       "    .dataframe thead th {\n",
       "        text-align: right;\n",
       "    }\n",
       "</style>\n",
       "<table border=\"1\" class=\"dataframe\">\n",
       "  <thead>\n",
       "    <tr style=\"text-align: right;\">\n",
       "      <th></th>\n",
       "      <th>Rk</th>\n",
       "      <th>TeamName_Clean</th>\n",
       "      <th>AdjEM</th>\n",
       "      <th>AdjO</th>\n",
       "      <th>AdjD</th>\n",
       "      <th>AdjT</th>\n",
       "      <th>Luck</th>\n",
       "      <th>SOS_AdjEM</th>\n",
       "      <th>SOS_OppO</th>\n",
       "      <th>SOS_OppD</th>\n",
       "      <th>NCSOS_AdjEM</th>\n",
       "      <th>Year</th>\n",
       "    </tr>\n",
       "  </thead>\n",
       "  <tbody>\n",
       "    <tr>\n",
       "      <th>0</th>\n",
       "      <td>1</td>\n",
       "      <td>Gonzaga</td>\n",
       "      <td>37.38</td>\n",
       "      <td>126.4</td>\n",
       "      <td>89.0</td>\n",
       "      <td>74.3</td>\n",
       "      <td>0.018</td>\n",
       "      <td>8.75</td>\n",
       "      <td>106.3</td>\n",
       "      <td>97.5</td>\n",
       "      <td>6.12</td>\n",
       "      <td>2021</td>\n",
       "    </tr>\n",
       "    <tr>\n",
       "      <th>1</th>\n",
       "      <td>2</td>\n",
       "      <td>Baylor</td>\n",
       "      <td>30.53</td>\n",
       "      <td>122.3</td>\n",
       "      <td>91.8</td>\n",
       "      <td>68.2</td>\n",
       "      <td>0.048</td>\n",
       "      <td>10.67</td>\n",
       "      <td>107.0</td>\n",
       "      <td>96.3</td>\n",
       "      <td>-2.99</td>\n",
       "      <td>2021</td>\n",
       "    </tr>\n",
       "    <tr>\n",
       "      <th>2</th>\n",
       "      <td>3</td>\n",
       "      <td>Houston</td>\n",
       "      <td>30.30</td>\n",
       "      <td>118.5</td>\n",
       "      <td>88.2</td>\n",
       "      <td>64.7</td>\n",
       "      <td>0.000</td>\n",
       "      <td>8.36</td>\n",
       "      <td>104.7</td>\n",
       "      <td>96.4</td>\n",
       "      <td>2.13</td>\n",
       "      <td>2021</td>\n",
       "    </tr>\n",
       "    <tr>\n",
       "      <th>3</th>\n",
       "      <td>4</td>\n",
       "      <td>Michigan</td>\n",
       "      <td>29.29</td>\n",
       "      <td>118.6</td>\n",
       "      <td>89.3</td>\n",
       "      <td>66.9</td>\n",
       "      <td>0.029</td>\n",
       "      <td>15.70</td>\n",
       "      <td>111.0</td>\n",
       "      <td>95.3</td>\n",
       "      <td>2.57</td>\n",
       "      <td>2021</td>\n",
       "    </tr>\n",
       "    <tr>\n",
       "      <th>4</th>\n",
       "      <td>5</td>\n",
       "      <td>Illinois</td>\n",
       "      <td>28.87</td>\n",
       "      <td>117.6</td>\n",
       "      <td>88.8</td>\n",
       "      <td>70.5</td>\n",
       "      <td>0.022</td>\n",
       "      <td>18.00</td>\n",
       "      <td>112.0</td>\n",
       "      <td>94.0</td>\n",
       "      <td>10.21</td>\n",
       "      <td>2021</td>\n",
       "    </tr>\n",
       "  </tbody>\n",
       "</table>\n",
       "</div>"
      ],
      "text/plain": [
       "   Rk TeamName_Clean  AdjEM   AdjO  AdjD  AdjT   Luck  SOS_AdjEM  SOS_OppO  \\\n",
       "0   1        Gonzaga  37.38  126.4  89.0  74.3  0.018       8.75     106.3   \n",
       "1   2         Baylor  30.53  122.3  91.8  68.2  0.048      10.67     107.0   \n",
       "2   3        Houston  30.30  118.5  88.2  64.7  0.000       8.36     104.7   \n",
       "3   4       Michigan  29.29  118.6  89.3  66.9  0.029      15.70     111.0   \n",
       "4   5       Illinois  28.87  117.6  88.8  70.5  0.022      18.00     112.0   \n",
       "\n",
       "   SOS_OppD  NCSOS_AdjEM  Year  \n",
       "0      97.5         6.12  2021  \n",
       "1      96.3        -2.99  2021  \n",
       "2      96.4         2.13  2021  \n",
       "3      95.3         2.57  2021  \n",
       "4      94.0        10.21  2021  "
      ]
     },
     "execution_count": 4,
     "metadata": {},
     "output_type": "execute_result"
    }
   ],
   "source": [
    "df_kenPom.head()"
   ]
  },
  {
   "cell_type": "code",
   "execution_count": 5,
   "metadata": {},
   "outputs": [],
   "source": [
    "files = ['kenPom_2016.csv', 'kenPom_2017.csv', 'kenPom_2018.csv', 'kenPom_2019.csv', 'kenPom_2020.csv', 'kenPom_2021.csv']\n",
    "\n",
    "csvs = []\n",
    "\n",
    "for x in files:\n",
    "    csvs.append(pd.read_csv(f'Data/2021/{x}'))\n",
    "\n",
    "kenPom_Full = pd.concat(csvs).reset_index(drop=True)\n",
    "kenPom_Full.to_csv('Data/2021/kenPom_Full.csv', index=False)"
   ]
  }
 ],
 "metadata": {
  "kernelspec": {
   "display_name": "Python 3",
   "language": "python",
   "name": "python3"
  },
  "language_info": {
   "codemirror_mode": {
    "name": "ipython",
    "version": 3
   },
   "file_extension": ".py",
   "mimetype": "text/x-python",
   "name": "python",
   "nbconvert_exporter": "python",
   "pygments_lexer": "ipython3",
   "version": "3.8.3"
  }
 },
 "nbformat": 4,
 "nbformat_minor": 4
}
