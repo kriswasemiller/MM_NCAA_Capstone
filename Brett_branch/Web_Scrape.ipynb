{
 "cells": [
  {
   "cell_type": "markdown",
   "metadata": {},
   "source": [
    "# Imports"
   ]
  },
  {
   "cell_type": "code",
   "execution_count": 1,
   "metadata": {},
   "outputs": [],
   "source": [
    "from bs4 import BeautifulSoup as bs\n",
    "import requests\n",
    "import pandas as pd\n",
    "import json\n",
    "import time\n",
    "from webdriver_manager.chrome import ChromeDriverManager\n",
    "from splinter import Browser\n",
    "import numpy as np"
   ]
  },
  {
   "cell_type": "markdown",
   "metadata": {},
   "source": [
    "### Init Browser"
   ]
  },
  {
   "cell_type": "code",
   "execution_count": 2,
   "metadata": {},
   "outputs": [
    {
     "name": "stderr",
     "output_type": "stream",
     "text": [
      "[WDM] - Current google-chrome version is 89.0.4389\n",
      "[WDM] - Get LATEST driver version for 89.0.4389\n",
      "[WDM] - Driver [C:\\Users\\kheat\\.wdm\\drivers\\chromedriver\\win32\\89.0.4389.23\\chromedriver.exe] found in cache\n"
     ]
    },
    {
     "name": "stdout",
     "output_type": "stream",
     "text": [
      " \n"
     ]
    }
   ],
   "source": [
    "executable_path = {'executable_path': ChromeDriverManager().install()}\n",
    "browser = Browser('chrome', **executable_path, headless=False)"
   ]
  },
  {
   "cell_type": "markdown",
   "metadata": {},
   "source": [
    "# KenPom Loop"
   ]
  },
  {
   "cell_type": "code",
   "execution_count": 3,
   "metadata": {},
   "outputs": [],
   "source": [
    "years = list(np.arange(2016, 2022))\n",
    "\n",
    "\n",
    "for year in years:\n",
    "    clean_names = []\n",
    "    seeds = []\n",
    "    \n",
    "    df = pd.DataFrame()\n",
    "    \n",
    "    url = f'https://kenpom.com/index.php?y={year}'\n",
    "    browser.visit(url)\n",
    "    time.sleep(0.5)\n",
    "    \n",
    "    html=browser.html\n",
    "    soup = bs(html, 'lxml')\n",
    "    \n",
    "    dfs = pd.read_html(browser.html)\n",
    "    df = dfs[0]\n",
    "    df.columns = [x[1] for x in df.columns]\n",
    "    df.Team[0][-2:]\n",
    "    str.isnumeric(df.Team[0][-2:].strip())\n",
    "    \n",
    "    for _, row in df.iterrows():\n",
    "        seed = row.Team[-2:].strip()\n",
    "\n",
    "        if str.isnumeric(seed):\n",
    "            clean_name = row.Team[:-2]\n",
    "\n",
    "        else:\n",
    "            clean_name = row.Team\n",
    "            seed = ''\n",
    "\n",
    "        clean_names.append(clean_name)\n",
    "        seeds.append(seed)\n",
    "  \n",
    "    df[\"TeamName_Clean\"] = clean_names\n",
    "    df[\"Seed\"] = seeds\n",
    "    \n",
    "    df.columns = ['Rk', 'Team', 'Conf', 'W-L', 'AdjEM', 'AdjO', 'AdjO_Rank', 'AdjD', 'AdjD_Rank',\n",
    "       'AdjT', 'AdjT_Rank', 'Luck', 'Luck_Rank', 'SOS_AdjEM', 'AdjEM_Rank', 'SOS_OppO', 'OppO_Rank',\n",
    "       'SOS_OppD', 'OppD_Rank', 'NCSOS_AdjEM', 'AdjEM_Rank', 'TeamName_Clean', 'Seed']\n",
    "\n",
    "    df_kenPom = df.drop(['Team','W-L','AdjO_Rank', 'AdjD_Rank', 'AdjT_Rank','Luck_Rank','AdjEM_Rank', \n",
    "                         'OppO_Rank', 'OppD_Rank','AdjEM_Rank', 'Seed'], axis=1)\n",
    "\n",
    "    df_kenPom = df_kenPom[['Rk', 'TeamName_Clean', 'AdjEM', 'AdjO', 'AdjD', 'AdjT', 'Luck', 'SOS_AdjEM', \n",
    "                           'SOS_OppO', 'SOS_OppD', 'NCSOS_AdjEM']]\n",
    "    \n",
    "    df_kenPom['Year'] = int(year)\n",
    "\n",
    "    # Write each df to CSV\n",
    "    df_kenPom.to_csv(f'Data/2021/kenPom_{year}.csv', index=False)\n"
   ]
  },
  {
   "cell_type": "code",
   "execution_count": 4,
   "metadata": {},
   "outputs": [],
   "source": [
    "files = ['kenPom_2016.csv', 'kenPom_2017.csv', 'kenPom_2018.csv', 'kenPom_2019.csv', 'kenPom_2020.csv', 'kenPom_2021.csv']\n",
    "\n",
    "csvs = []\n",
    "\n",
    "for x in files:\n",
    "    csvs.append(pd.read_csv(f'Data/2021/{x}'))\n",
    "\n",
    "kenPom_Full = pd.concat(csvs).reset_index(drop=True)\n",
    "kenPom_Full.to_csv('Data/2021/kenPom_Full.csv', index=False)"
   ]
  }
 ],
 "metadata": {
  "kernelspec": {
   "display_name": "Python 3",
   "language": "python",
   "name": "python3"
  },
  "language_info": {
   "codemirror_mode": {
    "name": "ipython",
    "version": 3
   },
   "file_extension": ".py",
   "mimetype": "text/x-python",
   "name": "python",
   "nbconvert_exporter": "python",
   "pygments_lexer": "ipython3",
   "version": "3.8.3"
  }
 },
 "nbformat": 4,
 "nbformat_minor": 4
}
