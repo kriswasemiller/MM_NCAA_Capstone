{
 "cells": [
  {
   "cell_type": "markdown",
   "metadata": {},
   "source": [
    "# Imports"
   ]
  },
  {
   "cell_type": "code",
   "execution_count": 1,
   "metadata": {},
   "outputs": [],
   "source": [
    "import pandas as pd\n",
    "pd.set_option('display.max_columns', None)\n",
    "import numpy as np\n",
    "from numpy import random\n",
    "\n",
    "import matplotlib.pyplot as plt\n",
    "import seaborn as sns\n",
    "\n",
    "from sklearn.model_selection import train_test_split\n",
    "\n",
    "from sklearn.linear_model import LinearRegression, Ridge, Lasso, ElasticNet\n",
    "from sklearn.tree import DecisionTreeRegressor\n",
    "from sklearn.ensemble import RandomForestRegressor\n",
    "from sklearn.ensemble import AdaBoostRegressor\n",
    "from sklearn.ensemble import GradientBoostingRegressor\n",
    "from sklearn.neighbors import KNeighborsRegressor\n",
    "from sklearn.svm import SVR\n",
    "from xgboost import XGBRegressor\n",
    "\n",
    "# metrics\n",
    "from sklearn.metrics import r2_score, mean_squared_error, mean_absolute_error\n",
    "from sklearn import metrics"
   ]
  },
  {
   "cell_type": "markdown",
   "metadata": {},
   "source": [
    "# Gather Data"
   ]
  },
  {
   "cell_type": "code",
   "execution_count": 2,
   "metadata": {},
   "outputs": [],
   "source": [
    "#Season Stats\n",
    "df_season_results = pd.read_csv(\"Data/2021/MDataFiles_Stage2/MRegularSeasonDetailedResults.csv\")\n",
    "df_teams = pd.read_csv(\"Data/2021/MDataFiles_Stage2/MTeams.csv\")\n",
    "df_teamSpellings = pd.read_csv(\"Data/2021/MDataFiles_Stage2/MTeamSpellings.csv\", sep='\\,', engine='python')\n",
    "\n",
    "#KenPom\n",
    "df_kenPom_2016 = pd.read_csv(\"Data/2021/kenPom_2016.csv\")\n",
    "df_kenPom_2017 = pd.read_csv(\"Data/2021/kenPom_2017.csv\")\n",
    "df_kenPom_2018 = pd.read_csv(\"Data/2021/kenPom_2018.csv\")\n",
    "df_kenPom_2019 = pd.read_csv(\"Data/2021/kenPom_2019.csv\")\n",
    "df_kenPom_2020 = pd.read_csv(\"Data/2021/kenPom_2020.csv\")\n",
    "df_kenPom_2021 = pd.read_csv(\"Data/2021/kenPom.csv\")\n",
    "\n",
    "ken_poms = [df_kenPom_2016, df_kenPom_2017, df_kenPom_2018, df_kenPom_2019, df_kenPom_2020, df_kenPom_2021]\n"
   ]
  },
  {
   "cell_type": "markdown",
   "metadata": {},
   "source": [
    "# Clean Data"
   ]
  },
  {
   "cell_type": "code",
   "execution_count": 3,
   "metadata": {},
   "outputs": [],
   "source": [
    "for x in range(len(ken_poms)):\n",
    "    ken_poms[x][\"TeamName_Clean\"] = ken_poms[x][\"TeamName_Clean\"].str.lower()\n",
    "    ken_poms[x][\"TeamName_Clean\"] = ken_poms[x][\"TeamName_Clean\"].str.strip()\n",
    "    "
   ]
  },
  {
   "cell_type": "code",
   "execution_count": 4,
   "metadata": {},
   "outputs": [],
   "source": [
    "def kenPom_Clean(df):\n",
    "    kp_df = pd.merge(df, df_teamSpellings, left_on=['TeamName_Clean'], right_on = ['TeamNameSpelling'], how = 'left')\n",
    "    kp_df = kp_df.drop(['TeamNameSpelling'], axis=1)\n",
    "    kp_df.dropna(axis=0, how='any', inplace=True)\n",
    "    \n",
    "    return kp_df"
   ]
  },
  {
   "cell_type": "code",
   "execution_count": 5,
   "metadata": {},
   "outputs": [],
   "source": [
    "kp_df_2016 = kenPom_Clean(df_kenPom_2016)\n",
    "kp_df_2017 = kenPom_Clean(df_kenPom_2017)\n",
    "kp_df_2018 = kenPom_Clean(df_kenPom_2018)\n",
    "kp_df_2019 = kenPom_Clean(df_kenPom_2019)\n",
    "kp_df_2020 = kenPom_Clean(df_kenPom_2020)\n",
    "kp_df_2021 = kenPom_Clean(df_kenPom_2021)"
   ]
  },
  {
   "cell_type": "code",
   "execution_count": 6,
   "metadata": {},
   "outputs": [],
   "source": [
    "def get_season(df, year):\n",
    "    df = df_season_results.loc[df_season_results.Season == year].reset_index(drop=True)\n",
    "    return df\n",
    "    "
   ]
  },
  {
   "cell_type": "code",
   "execution_count": 7,
   "metadata": {},
   "outputs": [],
   "source": [
    "df_2016 = get_season('df_2016', 2016)\n",
    "df_2017 = get_season('df_2017', 2017)\n",
    "df_2018 = get_season('df_2018', 2018)\n",
    "df_2019 = get_season('df_2019', 2019)\n",
    "df_2020 = get_season('df_2020', 2020)\n",
    "df_2021 = get_season('df_2021', 2021)"
   ]
  },
  {
   "cell_type": "code",
   "execution_count": 8,
   "metadata": {},
   "outputs": [],
   "source": [
    "def merge_kp(df, kp_df):\n",
    "    df = pd.merge(df, kp_df, left_on=['WTeamID'], right_on=['TeamID'], how='left', validate='m:1')\n",
    "    df.dropna(axis=0, how='any', inplace=True)\n",
    "    df['Winning_Team'] = df['TeamName_Clean']\n",
    "    \n",
    "    cols = ['WTeamID', 'Winning_Team', 'WScore', 'AdjEM', 'AdjO', 'AdjD', 'AdjT', 'Luck',\n",
    "         'SOS_AdjEM','SOS_OppO', 'SOS_OppD', 'NCSOS_AdjEM', 'WFGM', 'WFGA', 'WFGM3', 'WFGA3', \n",
    "         'WFTM', 'WFTA', 'WOR', 'WDR','WAst', 'WTO', 'WStl', 'WBlk', 'WPF', 'LTeamID', \n",
    "         'LScore', 'LFGM', 'LFGA', 'LFGM3', 'LFGA3', 'LFTM', 'LFTA','LOR', 'LDR', 'LAst', 'LTO', \n",
    "         'LStl', 'LBlk', 'LPF']\n",
    "    df = df[cols]\n",
    "    \n",
    "    df = pd.merge(df, kp_df, left_on=['WTeamID'], right_on=['TeamID'], how='left', validate='m:1')\n",
    "    df.dropna(axis=0, how='any', inplace=True)\n",
    "    df['Losing_Team'] = df['TeamName_Clean']\n",
    "    \n",
    "    cols = ['WTeamID', 'Winning_Team', 'WScore', 'AdjEM_x', 'AdjO_x', 'AdjD_x','AdjT_x', 'Luck_x', \n",
    "         'SOS_AdjEM_x', 'SOS_OppO_x', 'SOS_OppD_x','NCSOS_AdjEM_x', 'WFGM', 'WFGA', 'WFGM3', 'WFGA3',\n",
    "         'WFTM', 'WFTA','WOR', 'WDR', 'WAst', 'WTO', 'WStl', 'WBlk', 'WPF', \n",
    "         'LTeamID', 'Losing_Team', 'LScore','AdjEM_y','AdjO_y', 'AdjD_y', 'AdjT_y', 'Luck_y', \n",
    "         'SOS_AdjEM_y', 'SOS_OppO_y','SOS_OppD_y', 'NCSOS_AdjEM_y', 'LFGM', 'LFGA', 'LFGM3', 'LFGA3', \n",
    "         'LFTM', 'LFTA', 'LOR', 'LDR', 'LAst','LTO', 'LStl', 'LBlk', 'LPF']\n",
    "    \n",
    "    df = df[cols]\n",
    "    \n",
    "    return df"
   ]
  },
  {
   "cell_type": "code",
   "execution_count": 9,
   "metadata": {},
   "outputs": [],
   "source": [
    "df_2016 = merge_kp(df_2016, kp_df_2016)\n",
    "df_2017 = merge_kp(df_2017, kp_df_2017)\n",
    "df_2018 = merge_kp(df_2018, kp_df_2018)\n",
    "df_2019 = merge_kp(df_2019, kp_df_2019)\n",
    "df_2020 = merge_kp(df_2020, kp_df_2020)\n",
    "df_2021 = merge_kp(df_2021, kp_df_2021)\n"
   ]
  },
  {
   "cell_type": "markdown",
   "metadata": {},
   "source": [
    "# Model Building"
   ]
  },
  {
   "cell_type": "code",
   "execution_count": 10,
   "metadata": {},
   "outputs": [],
   "source": [
    "regress_df_2016 = df_2016.drop(['Winning_Team', 'Losing_Team', 'WTeamID', 'LTeamID', 'LScore', 'WFGM', 'WFGM3', \n",
    "                           'WFTM', 'LFGM', 'LFGM3', 'LFTM', ], axis=1)\n",
    "\n",
    "regress_df_2017 = df_2017.drop(['Winning_Team', 'Losing_Team', 'WTeamID', 'LTeamID', 'LScore', 'WFGM', 'WFGM3', \n",
    "                           'WFTM', 'LFGM', 'LFGM3', 'LFTM', ], axis=1)\n",
    "\n",
    "regress_df_2018 = df_2018.drop(['Winning_Team', 'Losing_Team', 'WTeamID', 'LTeamID', 'LScore', 'WFGM', 'WFGM3', \n",
    "                           'WFTM', 'LFGM', 'LFGM3', 'LFTM', ], axis=1)\n",
    "\n",
    "regress_df_2019 = df_2019.drop(['Winning_Team', 'Losing_Team', 'WTeamID', 'LTeamID', 'LScore', 'WFGM', 'WFGM3', \n",
    "                           'WFTM', 'LFGM', 'LFGM3', 'LFTM', ], axis=1)\n",
    "\n",
    "regress_df_2020 = df_2020.drop(['Winning_Team', 'Losing_Team', 'WTeamID', 'LTeamID', 'LScore', 'WFGM', 'WFGM3', \n",
    "                           'WFTM', 'LFGM', 'LFGM3', 'LFTM', ], axis=1)\n",
    "\n",
    "regress_df_2021 = df_2021.drop(['Winning_Team', 'Losing_Team', 'WTeamID', 'LTeamID', 'LScore', 'WFGM', 'WFGM3', \n",
    "                           'WFTM', 'LFGM', 'LFGM3', 'LFTM', ], axis=1)"
   ]
  },
  {
   "cell_type": "code",
   "execution_count": 11,
   "metadata": {},
   "outputs": [],
   "source": [
    "def in_sample_results(regression, y_train, in_preds):\n",
    "    ev = metrics.explained_variance_score(y_train, in_preds)\n",
    "    mae =metrics.mean_absolute_error(y_train, in_preds) \n",
    "    mse=metrics.mean_squared_error(y_train, in_preds) \n",
    "    r2=metrics.r2_score(y_train, in_preds)\n",
    "    \n",
    "    print(f'{regression}')\n",
    "    print('----------------------------------------------')\n",
    "    print('IN SAMPLE RESULTS')\n",
    "    print('Explained Variance: ', ev)\n",
    "    print('r2: ', r2)\n",
    "    print('MAE: ', mae)\n",
    "    print('MSE: ', mse)\n",
    "    print('RMSE ', np.sqrt(mse))\n",
    "    print('----------------------------------------------')"
   ]
  },
  {
   "cell_type": "code",
   "execution_count": 12,
   "metadata": {},
   "outputs": [],
   "source": [
    "def out_sample_results(y_test, out_preds):\n",
    "    ev = metrics.explained_variance_score(y_test, out_preds)\n",
    "    mae =metrics.mean_absolute_error(y_test, out_preds) \n",
    "    mse=metrics.mean_squared_error(y_test, out_preds) \n",
    "    r2=metrics.r2_score(y_test, out_preds)\n",
    "    \n",
    "    print('----------------------------------------------')\n",
    "    print('OUT SAMPLE RESULTS')\n",
    "    print('Explained Variance: ', ev)\n",
    "    print('r2: ', r2)\n",
    "    print('MAE: ', mae)\n",
    "    print('MSE: ', mse)\n",
    "    print('RMSE ', np.sqrt(mse))\n",
    "    print('----------------------------------------------')"
   ]
  },
  {
   "cell_type": "markdown",
   "metadata": {},
   "source": [
    "# 2016 Model"
   ]
  },
  {
   "cell_type": "code",
   "execution_count": 13,
   "metadata": {},
   "outputs": [],
   "source": [
    "# get pandas columns for prediction\n",
    "target_2016 = regress_df_2016[\"WScore\"]\n",
    "features_2016 = regress_df_2016.drop([\"WScore\"], axis=1)\n",
    "\n",
    "# convert to lists/arrays (MUST HAPPEN)\n",
    "X_2016 = np.array(features_2016)\n",
    "y_2016 = np.array(target_2016)\n",
    "\n",
    "# train/test split\n",
    "X_train_2016, X_test_2016, y_train_2016, y_test_2016 = train_test_split(X_2016, y_2016, test_size=0.2, random_state=123)"
   ]
  },
  {
   "cell_type": "code",
   "execution_count": 14,
   "metadata": {},
   "outputs": [
    {
     "name": "stdout",
     "output_type": "stream",
     "text": [
      "Gradient Boosting Regression\n",
      "----------------------------------------------\n",
      "IN SAMPLE RESULTS\n",
      "Explained Variance:  0.8462340396407283\n",
      "r2:  0.8462340396407284\n",
      "MAE:  3.3601471447509574\n",
      "MSE:  18.04682875545755\n",
      "RMSE  4.248155924099015\n",
      "----------------------------------------------\n"
     ]
    },
    {
     "data": {
      "image/png": "[encoded data removed]",
      "text/plain": [
       "<Figure size 720x432 with 1 Axes>"
      ]
     },
     "metadata": {
      "needs_background": "light"
     },
     "output_type": "display_data"
    }
   ],
   "source": [
    "# train the model\n",
    "gb_2016 = GradientBoostingRegressor()\n",
    "gb_2016.fit(X_2016, y_2016)\n",
    "\n",
    "#get predictions\n",
    "in_sample_preds_2016 = gb_2016.predict(X_2016)\n",
    "out_sample_preds_2016 = gb_2016.predict(X_test_2016)\n",
    "\n",
    "#metric report\n",
    "in_sample_results('Gradient Boosting Regression', y_2016, in_sample_preds_2016)\n",
    "# out_sample_results(y_test_2016, out_sample_preds_2016)\n",
    "\n",
    "# predicted vs actual\n",
    "plt.figure(figsize=(10,6))\n",
    "plt.scatter(y_test_2016, out_sample_preds_2016)\n",
    "plt.plot(y_test_2016, y_test_2016)\n",
    "\n",
    "plt.xlabel(\"Actual\")\n",
    "plt.ylabel(\"Predicted\")\n",
    "plt.title(\"Actual vs Predicted\")\n",
    "\n",
    "plt.show()"
   ]
  },
  {
   "cell_type": "markdown",
   "metadata": {},
   "source": [
    "# 2017 Model"
   ]
  },
  {
   "cell_type": "code",
   "execution_count": 15,
   "metadata": {},
   "outputs": [],
   "source": [
    "# get pandas columns for prediction\n",
    "target_2017 = regress_df_2017[\"WScore\"]\n",
    "features_2017 = regress_df_2017.drop([\"WScore\"], axis=1)\n",
    "\n",
    "# convert to lists/arrays (MUST HAPPEN)\n",
    "X_2017 = np.array(features_2017)\n",
    "y_2017 = np.array(target_2017)\n",
    "\n",
    "# train/test split\n",
    "X_train_2017, X_test_2017, y_train_2017, y_test_2017 = train_test_split(X_2017, y_2017, test_size=0.2, random_state=123)"
   ]
  },
  {
   "cell_type": "code",
   "execution_count": 16,
   "metadata": {},
   "outputs": [
    {
     "name": "stdout",
     "output_type": "stream",
     "text": [
      "Gradient Boosting Regression\n",
      "----------------------------------------------\n",
      "IN SAMPLE RESULTS\n",
      "Explained Variance:  0.8539733744850746\n",
      "r2:  0.8539733744850746\n",
      "MAE:  3.3553819613591847\n",
      "MSE:  17.957504291010387\n",
      "RMSE  4.237629560380471\n",
      "----------------------------------------------\n"
     ]
    },
    {
     "data": {
      "image/png": "[encoded data removed]",
      "text/plain": [
       "<Figure size 720x432 with 1 Axes>"
      ]
     },
     "metadata": {
      "needs_background": "light"
     },
     "output_type": "display_data"
    }
   ],
   "source": [
    "# train the model\n",
    "gb_2017 = GradientBoostingRegressor()\n",
    "gb_2017.fit(X_2017, y_2017)\n",
    "\n",
    "#get predictions\n",
    "in_sample_preds_2017 = gb_2017.predict(X_2017)\n",
    "out_sample_preds_2017 = gb_2017.predict(X_test_2017)\n",
    "\n",
    "#metric report\n",
    "in_sample_results('Gradient Boosting Regression', y_2017, in_sample_preds_2017)\n",
    "# out_sample_results(y_test_2017, out_sample_preds_2017)\n",
    "\n",
    "# predicted vs actual\n",
    "plt.figure(figsize=(10,6))\n",
    "plt.scatter(y_test_2017, out_sample_preds_2017)\n",
    "plt.plot(y_test_2017, y_test_2017)\n",
    "\n",
    "plt.xlabel(\"Actual\")\n",
    "plt.ylabel(\"Predicted\")\n",
    "plt.title(\"Actual vs Predicted\")\n",
    "\n",
    "plt.show()"
   ]
  },
  {
   "cell_type": "markdown",
   "metadata": {},
   "source": [
    "# 2018 Model"
   ]
  },
  {
   "cell_type": "code",
   "execution_count": 17,
   "metadata": {},
   "outputs": [],
   "source": [
    "# get pandas columns for prediction\n",
    "target_2018 = regress_df_2018[\"WScore\"]\n",
    "features_2018 = regress_df_2018.drop([\"WScore\"], axis=1)\n",
    "\n",
    "# convert to lists/arrays (MUST HAPPEN)\n",
    "X_2018 = np.array(features_2018)\n",
    "y_2018 = np.array(target_2018)\n",
    "\n",
    "# train/test split\n",
    "X_train_2018, X_test_2018, y_train_2018, y_test_2018 = train_test_split(X_2018, y_2018, test_size=0.2, random_state=123)"
   ]
  },
  {
   "cell_type": "code",
   "execution_count": 18,
   "metadata": {},
   "outputs": [
    {
     "name": "stdout",
     "output_type": "stream",
     "text": [
      "Gradient Boosting Regression\n",
      "----------------------------------------------\n",
      "IN SAMPLE RESULTS\n",
      "Explained Variance:  0.8504627445626691\n",
      "r2:  0.8504627445626691\n",
      "MAE:  3.354385745894984\n",
      "MSE:  17.85102105300564\n",
      "RMSE  4.225046869918207\n",
      "----------------------------------------------\n"
     ]
    },
    {
     "data": {
      "image/png": "[encoded data removed]",
      "text/plain": [
       "<Figure size 720x432 with 1 Axes>"
      ]
     },
     "metadata": {
      "needs_background": "light"
     },
     "output_type": "display_data"
    }
   ],
   "source": [
    "# train the model\n",
    "gb_2018 = GradientBoostingRegressor()\n",
    "gb_2018.fit(X_2018, y_2018)\n",
    "\n",
    "#get predictions\n",
    "in_sample_preds_2018 = gb_2018.predict(X_2018)\n",
    "out_sample_preds_2018 = gb_2018.predict(X_test_2018)\n",
    "\n",
    "#metric report\n",
    "in_sample_results('Gradient Boosting Regression', y_2018, in_sample_preds_2018)\n",
    "# out_sample_results(y_test_2018, out_sample_preds_2018)\n",
    "\n",
    "# predicted vs actual\n",
    "plt.figure(figsize=(10,6))\n",
    "plt.scatter(y_test_2018, out_sample_preds_2018)\n",
    "plt.plot(y_test_2018, y_test_2018)\n",
    "\n",
    "plt.xlabel(\"Actual\")\n",
    "plt.ylabel(\"Predicted\")\n",
    "plt.title(\"Actual vs Predicted\")\n",
    "\n",
    "plt.show()"
   ]
  },
  {
   "cell_type": "markdown",
   "metadata": {},
   "source": [
    "# 2019 Model"
   ]
  },
  {
   "cell_type": "code",
   "execution_count": 19,
   "metadata": {},
   "outputs": [],
   "source": [
    "# get pandas columns for prediction\n",
    "target_2019 = regress_df_2019[\"WScore\"]\n",
    "features_2019 = regress_df_2019.drop([\"WScore\"], axis=1)\n",
    "\n",
    "# convert to lists/arrays (MUST HAPPEN)\n",
    "X_2019 = np.array(features_2019)\n",
    "y_2019 = np.array(target_2019)\n",
    "\n",
    "# train/test split\n",
    "X_train_2019, X_test_2019, y_train_2019, y_test_2019 = train_test_split(X_2019, y_2019, test_size=0.2, random_state=123)"
   ]
  },
  {
   "cell_type": "code",
   "execution_count": 20,
   "metadata": {},
   "outputs": [
    {
     "name": "stdout",
     "output_type": "stream",
     "text": [
      "Gradient Boosting Regression\n",
      "----------------------------------------------\n",
      "IN SAMPLE RESULTS\n",
      "Explained Variance:  0.8476189081158325\n",
      "r2:  0.8476189081158325\n",
      "MAE:  3.3190002599477553\n",
      "MSE:  17.42326369886333\n",
      "RMSE  4.174118313951262\n",
      "----------------------------------------------\n"
     ]
    },
    {
     "data": {
      "image/png": "[encoded data removed]",
      "text/plain": [
       "<Figure size 720x432 with 1 Axes>"
      ]
     },
     "metadata": {
      "needs_background": "light"
     },
     "output_type": "display_data"
    }
   ],
   "source": [
    "# train the model\n",
    "gb_2019 = GradientBoostingRegressor()\n",
    "gb_2019.fit(X_2019, y_2019)\n",
    "\n",
    "#get predictions\n",
    "in_sample_preds_2019 = gb_2019.predict(X_2019)\n",
    "out_sample_preds_2019 = gb_2019.predict(X_test_2019)\n",
    "\n",
    "#metric report\n",
    "in_sample_results('Gradient Boosting Regression', y_2019, in_sample_preds_2019)\n",
    "# out_sample_results(y_test_2019, out_sample_preds_2019)\n",
    "\n",
    "# predicted vs actual\n",
    "plt.figure(figsize=(10,6))\n",
    "plt.scatter(y_test_2019, out_sample_preds_2019)\n",
    "plt.plot(y_test_2019, y_test_2019)\n",
    "\n",
    "plt.xlabel(\"Actual\")\n",
    "plt.ylabel(\"Predicted\")\n",
    "plt.title(\"Actual vs Predicted\")\n",
    "\n",
    "plt.show()"
   ]
  },
  {
   "cell_type": "markdown",
   "metadata": {},
   "source": [
    "# 2020 Model"
   ]
  },
  {
   "cell_type": "code",
   "execution_count": 21,
   "metadata": {},
   "outputs": [],
   "source": [
    "# get pandas columns for prediction\n",
    "target_2020 = regress_df_2020[\"WScore\"]\n",
    "features_2020 = regress_df_2020.drop([\"WScore\"], axis=1)\n",
    "\n",
    "# convert to lists/arrays (MUST HAPPEN)\n",
    "X_2020 = np.array(features_2020)\n",
    "y_2020 = np.array(target_2020)\n",
    "\n",
    "# train/test split\n",
    "X_train_2020, X_test_2020, y_train_2020, y_test_2020 = train_test_split(X_2020, y_2020, test_size=0.2, random_state=123)"
   ]
  },
  {
   "cell_type": "code",
   "execution_count": 22,
   "metadata": {},
   "outputs": [
    {
     "name": "stdout",
     "output_type": "stream",
     "text": [
      "Gradient Boosting Regression\n",
      "----------------------------------------------\n",
      "IN SAMPLE RESULTS\n",
      "Explained Variance:  0.8425089047739711\n",
      "r2:  0.8425089047739711\n",
      "MAE:  3.2777536235172358\n",
      "MSE:  16.967165483550176\n",
      "RMSE  4.119121931134131\n",
      "----------------------------------------------\n"
     ]
    },
    {
     "data": {
      "image/png": "[encoded data removed]",
      "text/plain": [
       "<Figure size 720x432 with 1 Axes>"
      ]
     },
     "metadata": {
      "needs_background": "light"
     },
     "output_type": "display_data"
    }
   ],
   "source": [
    "# train the model\n",
    "gb_2020 = GradientBoostingRegressor()\n",
    "gb_2020.fit(X_2020, y_2020)\n",
    "\n",
    "#get predictions\n",
    "in_sample_preds_2020 = gb_2020.predict(X_2020)\n",
    "out_sample_preds_2020 = gb_2020.predict(X_test_2020)\n",
    "\n",
    "#metric report\n",
    "in_sample_results('Gradient Boosting Regression', y_2020, in_sample_preds_2020)\n",
    "# out_sample_results(y_test_2020, out_sample_preds_2020)\n",
    "\n",
    "# predicted vs actual\n",
    "plt.figure(figsize=(10,6))\n",
    "plt.scatter(y_test_2020, out_sample_preds_2020)\n",
    "plt.plot(y_test_2020, y_test_2020)\n",
    "\n",
    "plt.xlabel(\"Actual\")\n",
    "plt.ylabel(\"Predicted\")\n",
    "plt.title(\"Actual vs Predicted\")\n",
    "\n",
    "plt.show()"
   ]
  },
  {
   "cell_type": "markdown",
   "metadata": {},
   "source": [
    "# 2021 Model"
   ]
  },
  {
   "cell_type": "code",
   "execution_count": 23,
   "metadata": {},
   "outputs": [],
   "source": [
    "# get pandas columns for prediction\n",
    "target_2021 = regress_df_2021[\"WScore\"]\n",
    "features_2021 = regress_df_2021.drop([\"WScore\"], axis=1)\n",
    "\n",
    "# convert to lists/arrays (MUST HAPPEN)\n",
    "X_2021 = np.array(features_2021)\n",
    "y_2021 = np.array(target_2021)\n",
    "\n",
    "# train/test split\n",
    "X_train_2021, X_test_2021, y_train_2021, y_test_2021 = train_test_split(X_2021, y_2021, test_size=0.2, random_state=123)"
   ]
  },
  {
   "cell_type": "code",
   "execution_count": 24,
   "metadata": {},
   "outputs": [
    {
     "name": "stdout",
     "output_type": "stream",
     "text": [
      "Gradient Boosting Regression\n",
      "----------------------------------------------\n",
      "IN SAMPLE RESULTS\n",
      "Explained Variance:  0.8173203388530038\n",
      "r2:  0.8173203388530038\n",
      "MAE:  3.5771489513649612\n",
      "MSE:  20.197372985353635\n",
      "RMSE  4.4941487498027515\n",
      "----------------------------------------------\n"
     ]
    },
    {
     "data": {
      "image/png": "[encoded data removed]",
      "text/plain": [
       "<Figure size 720x432 with 1 Axes>"
      ]
     },
     "metadata": {
      "needs_background": "light"
     },
     "output_type": "display_data"
    }
   ],
   "source": [
    "# train the model\n",
    "gb_2021 = GradientBoostingRegressor()\n",
    "gb_2021.fit(X_2021, y_2021)\n",
    "\n",
    "#get predictions\n",
    "in_sample_preds_2021 = gb_2021.predict(X_2021)\n",
    "out_sample_preds_2021 = gb_2021.predict(X_test_2021)\n",
    "\n",
    "#metric report\n",
    "in_sample_results('Gradient Boosting Regression', y_2021, in_sample_preds_2021)\n",
    "# out_sample_results(y_test_2021, out_sample_preds_2021)\n",
    "\n",
    "# predicted vs actual\n",
    "plt.figure(figsize=(10,6))\n",
    "plt.scatter(y_test_2021, out_sample_preds_2021)\n",
    "plt.plot(y_test_2021, y_test_2021)\n",
    "\n",
    "plt.xlabel(\"Actual\")\n",
    "plt.ylabel(\"Predicted\")\n",
    "plt.title(\"Actual vs Predicted\")\n",
    "\n",
    "plt.show()"
   ]
  },
  {
   "cell_type": "markdown",
   "metadata": {},
   "source": [
    "# Averages for Single Game Inputs"
   ]
  },
  {
   "cell_type": "code",
   "execution_count": 25,
   "metadata": {},
   "outputs": [],
   "source": [
    "def get_average(df):\n",
    "    avg_df = df.groupby(\"Winning_Team\").mean()\n",
    "    avg_df['WTeamID'] = avg_df['WTeamID'].astype(int)\n",
    "    return avg_df"
   ]
  },
  {
   "cell_type": "code",
   "execution_count": 26,
   "metadata": {},
   "outputs": [],
   "source": [
    "avg_2016 = get_average(df_2016)\n",
    "avg_2017 = get_average(df_2017)\n",
    "avg_2018 = get_average(df_2018)\n",
    "avg_2019 = get_average(df_2019)\n",
    "avg_2020 = get_average(df_2020)\n",
    "avg_2021 = get_average(df_2021)"
   ]
  },
  {
   "cell_type": "code",
   "execution_count": 27,
   "metadata": {},
   "outputs": [],
   "source": [
    "def full_avg(kp_df, df, year):\n",
    "    avg_df = pd.merge(kp_df, df, left_on='TeamID', right_on='WTeamID', how='left')\n",
    "    avg_df.dropna(axis=0, how='any', inplace=True)\n",
    "    \n",
    "    avg_df.to_csv(f'Data/AllYears/full_avg_{year}.csv', index=False)\n",
    "    \n",
    "    return avg_df"
   ]
  },
  {
   "cell_type": "code",
   "execution_count": 28,
   "metadata": {},
   "outputs": [],
   "source": [
    "full_avg_2016 = full_avg(kp_df_2016, avg_2016, 2016)\n",
    "full_avg_2017 = full_avg(kp_df_2017, avg_2017, 2017)\n",
    "full_avg_2018 = full_avg(kp_df_2018, avg_2018, 2018)\n",
    "full_avg_2019 = full_avg(kp_df_2019, avg_2019, 2019)\n",
    "full_avg_2020 = full_avg(kp_df_2020, avg_2020, 2020)\n",
    "full_avg_2021 = full_avg(kp_df_2021, avg_2021, 2021)"
   ]
  },
  {
   "cell_type": "code",
   "execution_count": 29,
   "metadata": {},
   "outputs": [],
   "source": [
    "avgs = ['full_avg_2016.csv', 'full_avg_2017.csv', 'full_avg_2018.csv','full_avg_2019.csv',\n",
    "        'full_avg_2020.csv','full_avg_2021.csv']\n",
    "\n",
    "csvs = []\n",
    "\n",
    "for x in avgs:\n",
    "    csvs.append(pd.read_csv(f'Data/AllYears/{x}'))\n",
    "    \n",
    "avgsAllYears = pd.concat(csvs).reset_index(drop=True)\n",
    "avgsAllYears.to_csv('Data/AllYears/avgsAllYears.csv', index=False)\n",
    "    "
   ]
  },
  {
   "cell_type": "markdown",
   "metadata": {},
   "source": [
    "# Single Game Matchups"
   ]
  },
  {
   "cell_type": "code",
   "execution_count": 30,
   "metadata": {},
   "outputs": [],
   "source": [
    "def get_matchup(yr1, yr2, avg_df_year, teamA, gb_year, avg_df_year2, teamB, gb_year2):\n",
    "    home = avg_df_year.loc[avg_df_year['TeamName_Clean'] == teamA]\n",
    "    home = home[['AdjEM', 'AdjO', 'AdjD', 'AdjT', 'Luck', 'SOS_AdjEM',\n",
    "       'SOS_OppO', 'SOS_OppD', 'NCSOS_AdjEM', 'WFGA',\n",
    "       'WFGA3', 'WFTA', 'WOR', 'WDR', 'WAst', 'WTO', 'WStl', 'WBlk',\n",
    "       'WPF']]\n",
    "    \n",
    "    away = avg_df_year2.loc[avg_df_year2['TeamName_Clean'] == teamB]\n",
    "    away = away[['AdjEM', 'AdjO', 'AdjD', 'AdjT', 'Luck', 'SOS_AdjEM',\n",
    "       'SOS_OppO', 'SOS_OppD', 'NCSOS_AdjEM', 'WFGA',\n",
    "       'WFGA3', 'WFTA', 'WOR', 'WDR', 'WAst', 'WTO', 'WStl', 'WBlk',\n",
    "       'WPF']]\n",
    "    \n",
    "    home_points = pd.merge(home, away, how='outer')\n",
    "    away_points = pd.merge(away, home, how='outer')\n",
    "    \n",
    "    home_points = np.array(home_points).reshape(-1, 38)\n",
    "    away_points = np.array(away_points).reshape(-1, 38)\n",
    "    \n",
    "    home_score = int(gb_year.predict(home_points))\n",
    "    away_score = int(gb_year2.predict(away_points))\n",
    "    \n",
    "    OT_count = 0\n",
    "    \n",
    "    while home_score == away_score:\n",
    "        OT_count += 1\n",
    "        print(f'END OF REGULATION | {teamA}: {round(home_score,0)} | {teamB}: {round(away_score,0)}')\n",
    "        print('-----------------------------------------')\n",
    "        print(f'SIMMING {OT_count}OT')\n",
    "        print('-----------------------------------------')\n",
    "        home_score = home_score + random.randint(5, 15)\n",
    "        away_score = away_score + random.randint(5, 15)\n",
    "    else:\n",
    "        print('FINAL')\n",
    "        print('-----------------------------------------')\n",
    "        return print(f'{yr1} {teamA}: {round(home_score,0)} | {yr2} {teamB}: {round(away_score,0)}')"
   ]
  },
  {
   "cell_type": "code",
   "execution_count": 31,
   "metadata": {},
   "outputs": [
    {
     "name": "stdout",
     "output_type": "stream",
     "text": [
      "FINAL\n",
      "-----------------------------------------\n",
      "2021 ohio st.: 75 | 2021 oral roberts: 77\n"
     ]
    }
   ],
   "source": [
    "get_matchup(2021, 2021, full_avg_2021, 'ohio st.', gb_2021, full_avg_2021, 'oral roberts', gb_2021)"
   ]
  },
  {
   "cell_type": "markdown",
   "metadata": {},
   "source": [
    "# Bracket Simulation"
   ]
  },
  {
   "cell_type": "markdown",
   "metadata": {},
   "source": [
    "#### First Round"
   ]
  },
  {
   "cell_type": "code",
   "execution_count": 32,
   "metadata": {},
   "outputs": [
    {
     "name": "stdout",
     "output_type": "stream",
     "text": [
      "FINAL\n",
      "-----------------------------------------\n",
      "2021 gonzaga: 82 | 2021 norfolk st.: 78\n",
      "-----------------------------------------\n",
      "FINAL\n",
      "-----------------------------------------\n",
      "2021 oklahoma: 78 | 2021 missouri: 73\n",
      "-----------------------------------------\n",
      "FINAL\n",
      "-----------------------------------------\n",
      "2021 creighton: 78 | 2021 uc santa barbara: 71\n",
      "-----------------------------------------\n",
      "FINAL\n",
      "-----------------------------------------\n",
      "2021 virginia: 69 | 2021 ohio: 77\n",
      "-----------------------------------------\n",
      "FINAL\n",
      "-----------------------------------------\n",
      "2021 usc: 74 | 2021 drake: 71\n",
      "-----------------------------------------\n",
      "FINAL\n",
      "-----------------------------------------\n",
      "2021 kansas: 72 | 2021 eastern washington: 74\n",
      "-----------------------------------------\n",
      "FINAL\n",
      "-----------------------------------------\n",
      "2021 oregon: 69 | 2021 vcu: 71\n",
      "-----------------------------------------\n",
      "FINAL\n",
      "-----------------------------------------\n",
      "2021 iowa: 80 | 2021 grand canyon: 71\n",
      "-----------------------------------------\n",
      "FINAL\n",
      "-----------------------------------------\n",
      "2021 michigan: 71 | 2021 texas southern: 73\n",
      "-----------------------------------------\n",
      "FINAL\n",
      "-----------------------------------------\n",
      "2021 lsu: 75 | 2021 st. bonaventure: 71\n",
      "-----------------------------------------\n",
      "FINAL\n",
      "-----------------------------------------\n",
      "2021 colorado: 69 | 2021 georgetown: 67\n",
      "-----------------------------------------\n",
      "FINAL\n",
      "-----------------------------------------\n",
      "2021 florida st.: 74 | 2021 unc greensboro: 77\n",
      "-----------------------------------------\n",
      "FINAL\n",
      "-----------------------------------------\n",
      "2021 byu: 75 | 2021 ucla: 70\n",
      "-----------------------------------------\n",
      "FINAL\n",
      "-----------------------------------------\n",
      "2021 texas: 72 | 2021 abilene christian: 77\n",
      "-----------------------------------------\n",
      "FINAL\n",
      "-----------------------------------------\n",
      "2021 connecticut: 72 | 2021 maryland: 70\n",
      "-----------------------------------------\n",
      "FINAL\n",
      "-----------------------------------------\n",
      "2021 alabama: 77 | 2021 iona: 72\n",
      "-----------------------------------------\n",
      "FINAL\n",
      "-----------------------------------------\n",
      "2021 baylor: 78 | 2021 hartford: 72\n",
      "-----------------------------------------\n",
      "FINAL\n",
      "-----------------------------------------\n",
      "2021 north carolina: 75 | 2021 wisconsin: 76\n",
      "-----------------------------------------\n",
      "FINAL\n",
      "-----------------------------------------\n",
      "2021 villanova: 78 | 2021 winthrop: 77\n",
      "-----------------------------------------\n",
      "FINAL\n",
      "-----------------------------------------\n",
      "2021 purdue: 69 | 2021 north texas: 67\n",
      "-----------------------------------------\n",
      "FINAL\n",
      "-----------------------------------------\n",
      "2021 texas tech: 71 | 2021 utah st.: 77\n",
      "-----------------------------------------\n",
      "FINAL\n",
      "-----------------------------------------\n",
      "2021 arkansas: 78 | 2021 colgate: 80\n",
      "-----------------------------------------\n",
      "FINAL\n",
      "-----------------------------------------\n",
      "2021 florida: 67 | 2021 virginia tech: 71\n",
      "-----------------------------------------\n",
      "FINAL\n",
      "-----------------------------------------\n",
      "2021 ohio st.: 75 | 2021 oral roberts: 77\n",
      "-----------------------------------------\n",
      "FINAL\n",
      "-----------------------------------------\n",
      "2021 illinois: 79 | 2021 drexel: 68\n",
      "-----------------------------------------\n",
      "FINAL\n",
      "-----------------------------------------\n",
      "2021 loyola chicago: 71 | 2021 georgia tech: 73\n",
      "-----------------------------------------\n",
      "FINAL\n",
      "-----------------------------------------\n",
      "2021 tennessee: 75 | 2021 oregon st.: 73\n",
      "-----------------------------------------\n",
      "END OF REGULATION | oklahoma st.: 71 | liberty: 71\n",
      "-----------------------------------------\n",
      "SIMMING 1OT\n",
      "-----------------------------------------\n",
      "FINAL\n",
      "-----------------------------------------\n",
      "2021 oklahoma st.: 83 | 2021 liberty: 79\n",
      "-----------------------------------------\n",
      "FINAL\n",
      "-----------------------------------------\n",
      "2021 san diego st.: 72 | 2021 syracuse: 78\n",
      "-----------------------------------------\n",
      "FINAL\n",
      "-----------------------------------------\n",
      "2021 west virginia: 73 | 2021 morehead st.: 69\n",
      "-----------------------------------------\n",
      "FINAL\n",
      "-----------------------------------------\n",
      "2021 clemson: 66 | 2021 rutgers: 72\n",
      "-----------------------------------------\n",
      "FINAL\n",
      "-----------------------------------------\n",
      "2021 houston: 74 | 2021 cleveland st.: 72\n",
      "-----------------------------------------\n"
     ]
    }
   ],
   "source": [
    "tourney_teams_west =[['gonzaga', 'norfolk st.'], ['oklahoma', 'missouri'], ['creighton', 'uc santa barbara'], \n",
    "                     ['virginia', 'ohio'], ['usc', 'drake'],['kansas', 'eastern washington'], ['oregon', 'vcu'], \n",
    "                     ['iowa', 'grand canyon']]\n",
    "\n",
    "tourney_teams_east = [['michigan', 'texas southern'], ['lsu', 'st. bonaventure'], ['colorado', 'georgetown'], \n",
    "                      ['florida st.', 'unc greensboro'],['byu', 'ucla'],['texas', 'abilene christian'], \n",
    "                      ['connecticut', 'maryland'], ['alabama', 'iona']]\n",
    "\n",
    "tourney_teams_south = [['baylor', 'hartford'], ['north carolina', 'wisconsin'], ['villanova', 'winthrop'], \n",
    "                       ['purdue', 'north texas'],['texas tech', 'utah st.'], ['arkansas', 'colgate'], \n",
    "                       ['florida', 'virginia tech'],['ohio st.', 'oral roberts']]\n",
    "\n",
    "tourney_teams_midwest = [['illinois', 'drexel'], ['loyola chicago', 'georgia tech'], ['tennessee', 'oregon st.'],\n",
    "                        ['oklahoma st.', 'liberty'], ['san diego st.', 'syracuse'], ['west virginia', 'morehead st.'],\n",
    "                        ['clemson', 'rutgers'], ['houston', 'cleveland st.']]\n",
    "\n",
    "first_round = tourney_teams_west, tourney_teams_east, tourney_teams_south, tourney_teams_midwest\n",
    "\n",
    "for x in first_round:\n",
    "    for team in x:\n",
    "        get_matchup(2021, 2021, full_avg_2021, team[0], gb_2021, full_avg_2021, team[1], gb_2021)\n",
    "        print('-----------------------------------------')\n",
    "    \n"
   ]
  },
  {
   "cell_type": "markdown",
   "metadata": {},
   "source": [
    "#### Second Round"
   ]
  },
  {
   "cell_type": "code",
   "execution_count": 33,
   "metadata": {},
   "outputs": [
    {
     "name": "stdout",
     "output_type": "stream",
     "text": [
      "FINAL\n",
      "-----------------------------------------\n",
      "2021 gonzaga: 80 | 2021 oklahoma: 79\n",
      "-----------------------------------------\n",
      "FINAL\n",
      "-----------------------------------------\n",
      "2021 creighton: 78 | 2021 ohio: 77\n",
      "-----------------------------------------\n",
      "END OF REGULATION | usc: 75 | eastern washington: 75\n",
      "-----------------------------------------\n",
      "SIMMING 1OT\n",
      "-----------------------------------------\n",
      "FINAL\n",
      "-----------------------------------------\n",
      "2021 usc: 88 | 2021 eastern washington: 83\n",
      "-----------------------------------------\n",
      "FINAL\n",
      "-----------------------------------------\n",
      "2021 oregon: 69 | 2021 iowa: 83\n",
      "-----------------------------------------\n",
      "FINAL\n",
      "-----------------------------------------\n",
      "2021 michigan: 73 | 2021 lsu: 74\n",
      "-----------------------------------------\n",
      "FINAL\n",
      "-----------------------------------------\n",
      "2021 colorado: 71 | 2021 florida st.: 74\n",
      "-----------------------------------------\n",
      "FINAL\n",
      "-----------------------------------------\n",
      "2021 byu: 78 | 2021 abilene christian: 76\n",
      "-----------------------------------------\n",
      "FINAL\n",
      "-----------------------------------------\n",
      "2021 connecticut: 72 | 2021 alabama: 79\n",
      "-----------------------------------------\n",
      "FINAL\n",
      "-----------------------------------------\n",
      "2021 baylor: 77 | 2021 north carolina: 80\n",
      "-----------------------------------------\n",
      "FINAL\n",
      "-----------------------------------------\n",
      "2021 villanova: 77 | 2021 purdue: 72\n",
      "-----------------------------------------\n",
      "FINAL\n",
      "-----------------------------------------\n",
      "2021 texas tech: 75 | 2021 arkansas: 82\n",
      "-----------------------------------------\n",
      "FINAL\n",
      "-----------------------------------------\n",
      "2021 virginia tech: 72 | 2021 oral roberts: 76\n",
      "-----------------------------------------\n",
      "FINAL\n",
      "-----------------------------------------\n",
      "2021 illinois: 82 | 2021 georgia tech: 72\n",
      "-----------------------------------------\n",
      "FINAL\n",
      "-----------------------------------------\n",
      "2021 tennessee: 71 | 2021 oklahoma st.: 73\n",
      "-----------------------------------------\n",
      "FINAL\n",
      "-----------------------------------------\n",
      "2021 syracuse: 79 | 2021 west virginia: 76\n",
      "-----------------------------------------\n",
      "FINAL\n",
      "-----------------------------------------\n",
      "2021 rutgers: 72 | 2021 houston: 71\n",
      "-----------------------------------------\n"
     ]
    }
   ],
   "source": [
    "tourney_2R_west = [['gonzaga', 'oklahoma'], ['creighton', 'ohio'], ['usc', 'eastern washington'], ['oregon', 'iowa']]\n",
    "\n",
    "tourney_2R_east = [['michigan', 'lsu'], ['colorado', 'florida st.'], ['byu', 'abilene christian'], ['connecticut', 'alabama']]\n",
    "\n",
    "tourney_2R_south = [['baylor', 'north carolina'], ['villanova', 'purdue'], ['texas tech', 'arkansas'], ['virginia tech', 'oral roberts']]\n",
    "\n",
    "tourney_2R_midwest = [['illinois', 'georgia tech'], ['tennessee', 'oklahoma st.'], ['syracuse', 'west virginia'], ['rutgers', 'houston']]\n",
    "\n",
    "second_round = tourney_2R_west, tourney_2R_east, tourney_2R_south, tourney_2R_midwest\n",
    "\n",
    "for x in second_round:\n",
    "    for team in x:\n",
    "        get_matchup(2021, 2021, full_avg_2021, team[0], gb_2021, full_avg_2021, team[1], gb_2021)\n",
    "        print('-----------------------------------------')"
   ]
  },
  {
   "cell_type": "markdown",
   "metadata": {},
   "source": [
    "#### Third Round"
   ]
  },
  {
   "cell_type": "code",
   "execution_count": 34,
   "metadata": {},
   "outputs": [
    {
     "name": "stdout",
     "output_type": "stream",
     "text": [
      "FINAL\n",
      "-----------------------------------------\n",
      "2021 gonzaga: 81 | 2021 creighton: 77\n",
      "-----------------------------------------\n",
      "FINAL\n",
      "-----------------------------------------\n",
      "2021 usc: 75 | 2021 iowa: 82\n",
      "-----------------------------------------\n",
      "FINAL\n",
      "-----------------------------------------\n",
      "2021 lsu: 77 | 2021 florida st.: 76\n",
      "-----------------------------------------\n",
      "FINAL\n",
      "-----------------------------------------\n",
      "2021 byu: 74 | 2021 alabama: 75\n",
      "-----------------------------------------\n",
      "FINAL\n",
      "-----------------------------------------\n",
      "2021 north carolina: 78 | 2021 villanova: 77\n",
      "-----------------------------------------\n",
      "FINAL\n",
      "-----------------------------------------\n",
      "2021 arkansas: 81 | 2021 oral roberts: 79\n",
      "-----------------------------------------\n",
      "FINAL\n",
      "-----------------------------------------\n",
      "2021 illinois: 77 | 2021 oklahoma st.: 70\n",
      "-----------------------------------------\n",
      "FINAL\n",
      "-----------------------------------------\n",
      "2021 syracuse: 74 | 2021 rutgers: 72\n",
      "-----------------------------------------\n"
     ]
    }
   ],
   "source": [
    "tourney_3R_west = [['gonzaga', 'creighton'], ['usc', 'iowa']]\n",
    "\n",
    "tourney_3R_east = [['lsu', 'florida st.'], ['byu', 'alabama']]\n",
    "\n",
    "tourney_3R_south = [['north carolina', 'villanova'], ['arkansas', 'oral roberts']]\n",
    "\n",
    "tourney_3R_midwest = [['illinois', 'oklahoma st.'], ['syracuse', 'rutgers']]\n",
    "\n",
    "third_round = tourney_3R_west, tourney_3R_east, tourney_3R_south, tourney_3R_midwest\n",
    "\n",
    "for x in third_round:\n",
    "    for team in x:\n",
    "        get_matchup(2021, 2021, full_avg_2021, team[0], gb_2021, full_avg_2021, team[1], gb_2021)\n",
    "        print('-----------------------------------------')\n",
    "\n"
   ]
  },
  {
   "cell_type": "markdown",
   "metadata": {},
   "source": [
    "#### Elite Eight"
   ]
  },
  {
   "cell_type": "code",
   "execution_count": 35,
   "metadata": {},
   "outputs": [
    {
     "name": "stdout",
     "output_type": "stream",
     "text": [
      "FINAL\n",
      "-----------------------------------------\n",
      "2021 gonzaga: 80 | 2021 iowa: 83\n",
      "-----------------------------------------\n",
      "FINAL\n",
      "-----------------------------------------\n",
      "2021 lsu: 73 | 2021 byu: 76\n",
      "-----------------------------------------\n",
      "FINAL\n",
      "-----------------------------------------\n",
      "2021 north carolina: 76 | 2021 arkansas: 79\n",
      "-----------------------------------------\n",
      "FINAL\n",
      "-----------------------------------------\n",
      "2021 illinois: 78 | 2021 syracuse: 75\n",
      "-----------------------------------------\n"
     ]
    }
   ],
   "source": [
    "tourney_4R = [['gonzaga', 'iowa'], ['lsu', 'byu'], ['north carolina', 'arkansas'], ['illinois', 'syracuse']]\n",
    "\n",
    "for team in tourney_4R:\n",
    "    get_matchup(2021, 2021, full_avg_2021, team[0], gb_2021, full_avg_2021, team[1], gb_2021)\n",
    "    print('-----------------------------------------')"
   ]
  },
  {
   "cell_type": "markdown",
   "metadata": {},
   "source": [
    "#### Final Four"
   ]
  },
  {
   "cell_type": "code",
   "execution_count": 36,
   "metadata": {},
   "outputs": [
    {
     "name": "stdout",
     "output_type": "stream",
     "text": [
      "FINAL\n",
      "-----------------------------------------\n",
      "2021 iowa: 80 | 2021 byu: 74\n",
      "-----------------------------------------\n",
      "FINAL\n",
      "-----------------------------------------\n",
      "2021 arkansas: 76 | 2021 illinois: 78\n",
      "-----------------------------------------\n"
     ]
    }
   ],
   "source": [
    "final_four = [['iowa', 'byu'], ['arkansas', 'illinois']]\n",
    "\n",
    "for team in final_four:\n",
    "    get_matchup(2021, 2021, full_avg_2021, team[0], gb_2021, full_avg_2021, team[1], gb_2021)\n",
    "    print('-----------------------------------------')"
   ]
  },
  {
   "cell_type": "markdown",
   "metadata": {},
   "source": [
    "## National Champion: Iowa"
   ]
  },
  {
   "cell_type": "code",
   "execution_count": 37,
   "metadata": {},
   "outputs": [
    {
     "name": "stdout",
     "output_type": "stream",
     "text": [
      "FINAL\n",
      "-----------------------------------------\n",
      "2021 iowa: 80 | 2021 illinois: 77\n"
     ]
    }
   ],
   "source": [
    "champions = ['iowa', 'illinois']\n",
    "\n",
    "get_matchup(2021, 2021, full_avg_2021, champions[0], gb_2021, full_avg_2021, champions[1], gb_2021)"
   ]
  }
 ],
 "metadata": {
  "kernelspec": {
   "display_name": "Python 3",
   "language": "python",
   "name": "python3"
  },
  "language_info": {
   "codemirror_mode": {
    "name": "ipython",
    "version": 3
   },
   "file_extension": ".py",
   "mimetype": "text/x-python",
   "name": "python",
   "nbconvert_exporter": "python",
   "pygments_lexer": "ipython3",
   "version": "3.8.3"
  }
 },
 "nbformat": 4,
 "nbformat_minor": 4
}
